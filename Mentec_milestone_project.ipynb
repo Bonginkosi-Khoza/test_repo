{
  "nbformat": 4,
  "nbformat_minor": 0,
  "metadata": {
    "colab": {
      "provenance": [],
      "toc_visible": true,
      "authorship_tag": "ABX9TyPTZ8EDoPa0s/cnLnUBgVwg",
      "include_colab_link": true
    },
    "kernelspec": {
      "name": "python3",
      "display_name": "Python 3"
    },
    "language_info": {
      "name": "python"
    }
  },
  "cells": [
    {
      "cell_type": "markdown",
      "metadata": {
        "id": "view-in-github",
        "colab_type": "text"
      },
      "source": [
        "<a href=\"https://colab.research.google.com/github/Bonginkosi-Khoza/test_repo/blob/main/Mentec_milestone_project.ipynb\" target=\"_parent\"><img src=\"https://colab.research.google.com/assets/colab-badge.svg\" alt=\"Open In Colab\"/></a>"
      ]
    },
    {
      "cell_type": "code",
      "execution_count": 23,
      "metadata": {
        "colab": {
          "base_uri": "https://localhost:8080/"
        },
        "id": "bYTTFj1Wqhsv",
        "outputId": "bbd69e8b-0a25-49f1-d8f0-0331e69caefa"
      },
      "outputs": [
        {
          "output_type": "stream",
          "name": "stdout",
          "text": [
            "Current working directory: /content/stella_project/stella_project\n",
            "Files: []\n"
          ]
        }
      ],
      "source": [
        "import os\n",
        "\n",
        "# Creating folder if it doesn’t exist\n",
        "os.makedirs(\"stella_project\", exist_ok=True)\n",
        "\n",
        "# Changing working directory to this folder\n",
        "os.chdir(\"stella_project\")\n",
        "\n",
        "# Checking: print current directory and its contents\n",
        "print(\"Current working directory:\", os.getcwd())\n",
        "print(\"Files:\", os.listdir())\n"
      ]
    },
    {
      "cell_type": "code",
      "source": [
        "#The configuration file holds global settings: secret key, database path, etc\n",
        "\n",
        "with open(\"config.py\", \"w\") as f:\n",
        "    f.write(\"\"\"import os\n",
        "\n",
        "class Config:\n",
        "    # Secret key: secures sessions and cookies\n",
        "    SECRET_KEY = os.environ.get(\"SECRET_KEY\", \"dev-key\")\n",
        "\n",
        "    # Database: SQLite file stored as stella.db\n",
        "    SQLALCHEMY_DATABASE_URI = os.environ.get(\"DATABASE_URL\", \"sqlite:///stella.db\")\n",
        "\n",
        "    # Disable modification tracking to save resources\n",
        "    SQLALCHEMY_TRACK_MODIFICATIONS = False\n",
        "\"\"\")\n",
        "\n",
        "# Checking file content\n",
        "with open(\"config.py\") as f:\n",
        "    print(f.read())\n"
      ],
      "metadata": {
        "colab": {
          "base_uri": "https://localhost:8080/"
        },
        "id": "_yJQN_Qqrfng",
        "outputId": "7eccd9bc-d048-464c-8a7c-87f8dbe1e1f4"
      },
      "execution_count": 24,
      "outputs": [
        {
          "output_type": "stream",
          "name": "stdout",
          "text": [
            "import os\n",
            "\n",
            "class Config:\n",
            "    # Secret key: secures sessions and cookies\n",
            "    SECRET_KEY = os.environ.get(\"SECRET_KEY\", \"dev-key\")\n",
            "\n",
            "    # Database: SQLite file stored as stella.db\n",
            "    SQLALCHEMY_DATABASE_URI = os.environ.get(\"DATABASE_URL\", \"sqlite:///stella.db\")\n",
            "\n",
            "    # Disable modification tracking to save resources\n",
            "    SQLALCHEMY_TRACK_MODIFICATIONS = False\n",
            "\n"
          ]
        }
      ]
    },
    {
      "cell_type": "code",
      "source": [
        "\n",
        "\n",
        "with open(\"app.py\", \"w\") as f:\n",
        "    f.write(\"\"\"import os, io, csv, random, json\n",
        "from datetime import datetime\n",
        "from flask import Flask, render_template, request, redirect, url_for, flash, send_file\n",
        "from flask_sqlalchemy import SQLAlchemy\n",
        "from flask_login import LoginManager, UserMixin, login_user, login_required, logout_user, current_user\n",
        "from werkzeug.security import generate_password_hash, check_password_hash\n",
        "import matplotlib\n",
        "matplotlib.use(\"Agg\")  # Non-GUI backend for Colab\n",
        "import matplotlib.pyplot as plt\n",
        "\n",
        "from config import Config\n",
        "\n",
        "# Create Flask app and load settings\n",
        "app = Flask(__name__, template_folder=\"templates\")\n",
        "app.config.from_object(Config)\n",
        "\n",
        "# Database setup\n",
        "db = SQLAlchemy(app)\n",
        "\n",
        "# Login manager setup\n",
        "login_manager = LoginManager(app)\n",
        "login_manager.login_view = \"login\"\n",
        "\"\"\")\n",
        "\n",
        "# Checking first 15 lines\n",
        "with open(\"app.py\") as f:\n",
        "    for i, line in enumerate(f.readlines()[:15], 1):\n",
        "        print(f\"{i:02d}: {line}\", end=\"\")\n"
      ],
      "metadata": {
        "colab": {
          "base_uri": "https://localhost:8080/"
        },
        "id": "wwWmAjsYru3-",
        "outputId": "647a885a-b9d1-40c9-fb68-5a9f25d3b257"
      },
      "execution_count": 25,
      "outputs": [
        {
          "output_type": "stream",
          "name": "stdout",
          "text": [
            "01: import os, io, csv, random, json\n",
            "02: from datetime import datetime\n",
            "03: from flask import Flask, render_template, request, redirect, url_for, flash, send_file\n",
            "04: from flask_sqlalchemy import SQLAlchemy\n",
            "05: from flask_login import LoginManager, UserMixin, login_user, login_required, logout_user, current_user\n",
            "06: from werkzeug.security import generate_password_hash, check_password_hash\n",
            "07: import matplotlib\n",
            "08: matplotlib.use(\"Agg\")  # Non-GUI backend for Colab\n",
            "09: import matplotlib.pyplot as plt\n",
            "10: \n",
            "11: from config import Config\n",
            "12: \n",
            "13: # Create Flask app and load settings\n",
            "14: app = Flask(__name__, template_folder=\"templates\")\n",
            "15: app.config.from_object(Config)\n"
          ]
        }
      ]
    },
    {
      "cell_type": "code",
      "source": [
        "# Nowdefining the database tables\n",
        "\n",
        "with open(\"app.py\", \"a\") as f:\n",
        "    f.write(\"\"\"\n",
        "# ------------------- Models -------------------\n",
        "class User(UserMixin, db.Model):\n",
        "    id = db.Column(db.Integer, primary_key=True)\n",
        "    username = db.Column(db.String(80), unique=True, nullable=False)\n",
        "    email = db.Column(db.String(120), unique=True, nullable=False)\n",
        "    password_hash = db.Column(db.String(255), nullable=False)\n",
        "\n",
        "    def set_password(self, password):\n",
        "        self.password_hash = generate_password_hash(password)\n",
        "    def check_password(self, password):\n",
        "        return check_password_hash(self.password_hash, password)\n",
        "\n",
        "class Task(db.Model):\n",
        "    id = db.Column(db.Integer, primary_key=True)\n",
        "    title = db.Column(db.String(200), nullable=False)\n",
        "    is_done = db.Column(db.Boolean, default=False)\n",
        "    user_id = db.Column(db.Integer, db.ForeignKey(\"user.id\"), nullable=False)\n",
        "\n",
        "class Expense(db.Model):\n",
        "    id = db.Column(db.Integer, primary_key=True)\n",
        "    category = db.Column(db.String(100), nullable=False)\n",
        "    amount = db.Column(db.Float, nullable=False)\n",
        "    user_id = db.Column(db.Integer, db.ForeignKey(\"user.id\"), nullable=False)\n",
        "    created_at = db.Column(db.DateTime, default=datetime.utcnow)\n",
        "\n",
        "@login_manager.user_loader\n",
        "def load_user(user_id):\n",
        "    return User.query.get(int(user_id))\n",
        "\"\"\")\n",
        "\n",
        "# Checking last 20 lines\n",
        "with open(\"app.py\") as f:\n",
        "    for line in f.readlines()[-20:]:\n",
        "        print(line, end=\"\")\n"
      ],
      "metadata": {
        "colab": {
          "base_uri": "https://localhost:8080/"
        },
        "id": "_b92iLxUsDuP",
        "outputId": "2b276e3c-51b1-4f34-bb02-3ed4f3d4aca5"
      },
      "execution_count": 26,
      "outputs": [
        {
          "output_type": "stream",
          "name": "stdout",
          "text": [
            "        self.password_hash = generate_password_hash(password)\n",
            "    def check_password(self, password):\n",
            "        return check_password_hash(self.password_hash, password)\n",
            "\n",
            "class Task(db.Model):\n",
            "    id = db.Column(db.Integer, primary_key=True)\n",
            "    title = db.Column(db.String(200), nullable=False)\n",
            "    is_done = db.Column(db.Boolean, default=False)\n",
            "    user_id = db.Column(db.Integer, db.ForeignKey(\"user.id\"), nullable=False)\n",
            "\n",
            "class Expense(db.Model):\n",
            "    id = db.Column(db.Integer, primary_key=True)\n",
            "    category = db.Column(db.String(100), nullable=False)\n",
            "    amount = db.Column(db.Float, nullable=False)\n",
            "    user_id = db.Column(db.Integer, db.ForeignKey(\"user.id\"), nullable=False)\n",
            "    created_at = db.Column(db.DateTime, default=datetime.utcnow)\n",
            "\n",
            "@login_manager.user_loader\n",
            "def load_user(user_id):\n",
            "    return User.query.get(int(user_id))\n"
          ]
        }
      ]
    },
    {
      "cell_type": "code",
      "source": [
        "'''\n",
        "outes are URLs that the app responds to. These are the core ones:\n",
        "\n",
        "/ → homepage.\n",
        "\n",
        "/register → user signup.\n",
        "\n",
        "/login → user login.\n",
        "\n",
        "/logout → log out.\n",
        "\n",
        "/dashboard → main page after login.\n",
        "\n",
        "'''\n",
        "\n",
        "with open(\"app.py\", \"a\") as f:\n",
        "    f.write(\"\"\"\n",
        "# ------------------- Routes -------------------\n",
        "@app.route(\"/\")\n",
        "def index():\n",
        "    return render_template(\"index.html\")\n",
        "\n",
        "@app.route(\"/register\", methods=[\"GET\",\"POST\"])\n",
        "def register():\n",
        "    if request.method == \"POST\":\n",
        "        u = User(username=request.form[\"username\"], email=request.form[\"email\"])\n",
        "        u.set_password(request.form[\"password\"])\n",
        "        db.session.add(u); db.session.commit()\n",
        "        flash(\"Registered! Please log in.\")\n",
        "        return redirect(url_for(\"login\"))\n",
        "    return render_template(\"auth/register.html\")\n",
        "\n",
        "@app.route(\"/login\", methods=[\"GET\",\"POST\"])\n",
        "def login():\n",
        "    if request.method == \"POST\":\n",
        "        user = User.query.filter_by(username=request.form[\"username\"]).first()\n",
        "        if user and user.check_password(request.form[\"password\"]):\n",
        "            login_user(user)\n",
        "            return redirect(url_for(\"dashboard\"))\n",
        "        flash(\"Invalid credentials.\")\n",
        "    return render_template(\"auth/login.html\")\n",
        "\n",
        "@app.route(\"/logout\")\n",
        "@login_required\n",
        "def logout():\n",
        "    logout_user()\n",
        "    return redirect(url_for(\"index\"))\n",
        "\n",
        "@app.route(\"/dashboard\")\n",
        "@login_required\n",
        "def dashboard():\n",
        "    return render_template(\"dashboard.html\")\n",
        "\"\"\")\n",
        "\n",
        "# Check last 20 lines\n",
        "with open(\"app.py\") as f:\n",
        "    for line in f.readlines()[-20:]:\n",
        "        print(line, end=\"\")\n"
      ],
      "metadata": {
        "colab": {
          "base_uri": "https://localhost:8080/"
        },
        "id": "Dq9s5YUYse1m",
        "outputId": "e02de784-f299-4c40-a518-fbd2277773ee"
      },
      "execution_count": 27,
      "outputs": [
        {
          "output_type": "stream",
          "name": "stdout",
          "text": [
            "@app.route(\"/login\", methods=[\"GET\",\"POST\"])\n",
            "def login():\n",
            "    if request.method == \"POST\":\n",
            "        user = User.query.filter_by(username=request.form[\"username\"]).first()\n",
            "        if user and user.check_password(request.form[\"password\"]):\n",
            "            login_user(user)\n",
            "            return redirect(url_for(\"dashboard\"))\n",
            "        flash(\"Invalid credentials.\")\n",
            "    return render_template(\"auth/login.html\")\n",
            "\n",
            "@app.route(\"/logout\")\n",
            "@login_required\n",
            "def logout():\n",
            "    logout_user()\n",
            "    return redirect(url_for(\"index\"))\n",
            "\n",
            "@app.route(\"/dashboard\")\n",
            "@login_required\n",
            "def dashboard():\n",
            "    return render_template(\"dashboard.html\")\n"
          ]
        }
      ]
    },
    {
      "cell_type": "code",
      "source": [
        "# viewing tasks and adding tasks, marking task done or undone\n",
        "\n",
        "with open(\"app.py\", \"a\") as f:\n",
        "    f.write(\"\"\"\n",
        "\n",
        "@app.route(\"/tasks\", methods=[\"GET\",\"POST\"])\n",
        "@login_required\n",
        "def tasks():\n",
        "    if request.method == \"POST\":\n",
        "        t = Task(title=request.form[\"title\"], user_id=current_user.id)\n",
        "        db.session.add(t); db.session.commit()\n",
        "        return redirect(url_for(\"tasks\"))\n",
        "    items = Task.query.filter_by(user_id=current_user.id).all()\n",
        "    return render_template(\"tasks.html\", tasks=items)\n",
        "\n",
        "@app.route(\"/tasks/<int:tid>/toggle\")\n",
        "@login_required\n",
        "def toggle_task(tid):\n",
        "    t = Task.query.get_or_404(tid)\n",
        "    t.is_done = not t.is_done\n",
        "    db.session.commit()\n",
        "    return redirect(url_for(\"tasks\"))\n",
        "\"\"\")\n",
        "\n",
        "#Checking last 15 lines\n",
        "with open(\"app.py\") as f:\n",
        "    for line in f.readlines()[-15:]:\n",
        "        print(line, end=\"\")\n"
      ],
      "metadata": {
        "colab": {
          "base_uri": "https://localhost:8080/"
        },
        "id": "eM_EXCZgs4zB",
        "outputId": "b42451a6-99c1-455a-a0ba-57cd7be51e4a"
      },
      "execution_count": 28,
      "outputs": [
        {
          "output_type": "stream",
          "name": "stdout",
          "text": [
            "def tasks():\n",
            "    if request.method == \"POST\":\n",
            "        t = Task(title=request.form[\"title\"], user_id=current_user.id)\n",
            "        db.session.add(t); db.session.commit()\n",
            "        return redirect(url_for(\"tasks\"))\n",
            "    items = Task.query.filter_by(user_id=current_user.id).all()\n",
            "    return render_template(\"tasks.html\", tasks=items)\n",
            "\n",
            "@app.route(\"/tasks/<int:tid>/toggle\")\n",
            "@login_required\n",
            "def toggle_task(tid):\n",
            "    t = Task.query.get_or_404(tid)\n",
            "    t.is_done = not t.is_done\n",
            "    db.session.commit()\n",
            "    return redirect(url_for(\"tasks\"))\n"
          ]
        }
      ]
    },
    {
      "cell_type": "code",
      "source": [
        "# adding expense tracker routes for adding expenses, generating a pie chart of expenses and downloading csv of expenses\n",
        "\n",
        "with open(\"app.py\", \"a\") as f:\n",
        "    f.write(\"\"\"\n",
        "\n",
        "@app.route(\"/expenses\", methods=[\"GET\",\"POST\"])\n",
        "@login_required\n",
        "def expenses():\n",
        "    if request.method == \"POST\":\n",
        "        e = Expense(category=request.form[\"category\"], amount=float(request.form[\"amount\"]), user_id=current_user.id)\n",
        "        db.session.add(e); db.session.commit()\n",
        "        return redirect(url_for(\"expenses\"))\n",
        "    rows = Expense.query.filter_by(user_id=current_user.id).all()\n",
        "    totals = {}\n",
        "    for r in rows:\n",
        "        totals[r.category] = totals.get(r.category, 0) + r.amount\n",
        "    if totals:\n",
        "        plt.figure()\n",
        "        plt.pie(list(totals.values()), labels=list(totals.keys()), autopct=\"%1.1f%%\")\n",
        "        plt.savefig(\"static/expenses.png\")\n",
        "        plt.close()\n",
        "    return render_template(\"expenses.html\", rows=rows, totals=totals)\n",
        "\n",
        "@app.route(\"/expenses/export\")\n",
        "@login_required\n",
        "def export_expenses():\n",
        "    rows = Expense.query.filter_by(user_id=current_user.id).all()\n",
        "    import io, csv\n",
        "    output = io.StringIO()\n",
        "    writer = csv.writer(output)\n",
        "    writer.writerow([\"Category\",\"Amount\",\"Date\"])\n",
        "    for r in rows:\n",
        "        writer.writerow([r.category, r.amount, r.created_at])\n",
        "    mem = io.BytesIO(output.getvalue().encode())\n",
        "    mem.seek(0)\n",
        "    return send_file(mem, as_attachment=True, download_name=\"expenses.csv\")\n",
        "\"\"\")\n",
        "\n",
        "#Checking last 25 lines\n",
        "with open(\"app.py\") as f:\n",
        "    for line in f.readlines()[-25:]:\n",
        "        print(line, end=\"\")\n"
      ],
      "metadata": {
        "colab": {
          "base_uri": "https://localhost:8080/"
        },
        "id": "CBaweKBkteV6",
        "outputId": "de71c6de-c21d-494b-e260-afb8a9b16648"
      },
      "execution_count": 29,
      "outputs": [
        {
          "output_type": "stream",
          "name": "stdout",
          "text": [
            "        return redirect(url_for(\"expenses\"))\n",
            "    rows = Expense.query.filter_by(user_id=current_user.id).all()\n",
            "    totals = {}\n",
            "    for r in rows:\n",
            "        totals[r.category] = totals.get(r.category, 0) + r.amount\n",
            "    if totals:\n",
            "        plt.figure()\n",
            "        plt.pie(list(totals.values()), labels=list(totals.keys()), autopct=\"%1.1f%%\")\n",
            "        plt.savefig(\"static/expenses.png\")\n",
            "        plt.close()\n",
            "    return render_template(\"expenses.html\", rows=rows, totals=totals)\n",
            "\n",
            "@app.route(\"/expenses/export\")\n",
            "@login_required\n",
            "def export_expenses():\n",
            "    rows = Expense.query.filter_by(user_id=current_user.id).all()\n",
            "    import io, csv\n",
            "    output = io.StringIO()\n",
            "    writer = csv.writer(output)\n",
            "    writer.writerow([\"Category\",\"Amount\",\"Date\"])\n",
            "    for r in rows:\n",
            "        writer.writerow([r.category, r.amount, r.created_at])\n",
            "    mem = io.BytesIO(output.getvalue().encode())\n",
            "    mem.seek(0)\n",
            "    return send_file(mem, as_attachment=True, download_name=\"expenses.csv\")\n"
          ]
        }
      ]
    },
    {
      "cell_type": "code",
      "source": [
        "# adding a CLI command to db\n",
        "with open(\"app.py\", \"a\") as f:\n",
        "    f.write(\"\"\"\n",
        "\n",
        "@app.cli.command(\"init-db\")\n",
        "def init_db():\n",
        "    db.create_all()\n",
        "    print(\"DB initialized.\")\n",
        "\"\"\")\n",
        "\n",
        "# Checkingg last 10 lines\n",
        "with open(\"app.py\") as f:\n",
        "    for line in f.readlines()[-10:]:\n",
        "        print(line, end=\"\")\n"
      ],
      "metadata": {
        "colab": {
          "base_uri": "https://localhost:8080/"
        },
        "id": "UfAAVobNt69V",
        "outputId": "cdeda934-3dba-414d-8be9-2baa402b6ef7"
      },
      "execution_count": 30,
      "outputs": [
        {
          "output_type": "stream",
          "name": "stdout",
          "text": [
            "        writer.writerow([r.category, r.amount, r.created_at])\n",
            "    mem = io.BytesIO(output.getvalue().encode())\n",
            "    mem.seek(0)\n",
            "    return send_file(mem, as_attachment=True, download_name=\"expenses.csv\")\n",
            "\n",
            "\n",
            "@app.cli.command(\"init-db\")\n",
            "def init_db():\n",
            "    db.create_all()\n",
            "    print(\"DB initialized.\")\n"
          ]
        }
      ]
    },
    {
      "cell_type": "code",
      "source": [
        "# we use flak_ngrok\n",
        "with open(\"app.py\", \"a\") as f:\n",
        "    f.write(\"\"\"\n",
        "\n",
        "# ------------------- Colab-specific Run -------------------\n",
        "if __name__ == \"__main__\":\n",
        "    from flask_ngrok import run_with_ngrok\n",
        "    run_with_ngrok(app)   # start ngrok tunnel\n",
        "    with app.app_context():\n",
        "        db.create_all()   # ensure DB tables exist\n",
        "    app.run()\n",
        "\"\"\")\n",
        "\n",
        "#  Checking last 15 lines\n",
        "with open(\"app.py\") as f:\n",
        "    for line in f.readlines()[-15:]:\n",
        "        print(line, end=\"\")\n"
      ],
      "metadata": {
        "colab": {
          "base_uri": "https://localhost:8080/"
        },
        "id": "GOke4-d1uPjx",
        "outputId": "ce0ba170-a61a-47d2-eb2f-aa6e4880848d"
      },
      "execution_count": 31,
      "outputs": [
        {
          "output_type": "stream",
          "name": "stdout",
          "text": [
            "\n",
            "\n",
            "@app.cli.command(\"init-db\")\n",
            "def init_db():\n",
            "    db.create_all()\n",
            "    print(\"DB initialized.\")\n",
            "\n",
            "\n",
            "# ------------------- Colab-specific Run -------------------\n",
            "if __name__ == \"__main__\":\n",
            "    from flask_ngrok import run_with_ngrok\n",
            "    run_with_ngrok(app)   # start ngrok tunnel\n",
            "    with app.app_context():\n",
            "        db.create_all()   # ensure DB tables exist\n",
            "    app.run()\n"
          ]
        }
      ]
    },
    {
      "cell_type": "code",
      "source": [
        "# these templates will be used for HTML and static / for images(charts))\n",
        "# Creating folders for HTML templates and static files\n",
        "os.makedirs(\"templates/auth\", exist_ok=True)\n",
        "os.makedirs(\"static\", exist_ok=True)\n",
        "\n",
        "# Checking folder structure\n",
        "for root, dirs, files in os.walk(\".\", topdown=True):\n",
        "    print(root, \"->\", dirs, files)\n",
        "\n"
      ],
      "metadata": {
        "colab": {
          "base_uri": "https://localhost:8080/"
        },
        "id": "5iF3Ozgdue7r",
        "outputId": "d71363c0-a98f-4203-e553-eddc94cbb8c2"
      },
      "execution_count": 32,
      "outputs": [
        {
          "output_type": "stream",
          "name": "stdout",
          "text": [
            ". -> ['templates', 'static'] ['config.py', 'app.py']\n",
            "./templates -> ['auth'] []\n",
            "./templates/auth -> [] []\n",
            "./static -> [] []\n"
          ]
        }
      ]
    },
    {
      "cell_type": "code",
      "source": [
        "#(requirements.txt) this one will keep track of needed libraries\n",
        "with open(\"requirements.txt\", \"w\") as f:\n",
        "    f.write(\"\"\"flask\n",
        "flask_sqlalchemy\n",
        "flask_login\n",
        "flask_ngrok\n",
        "matplotlib\n",
        "werkzeug\n",
        "\"\"\")\n",
        "\n",
        "# Checking file\n",
        "with open(\"requirements.txt\") as f:\n",
        "    print(f.read())\n"
      ],
      "metadata": {
        "colab": {
          "base_uri": "https://localhost:8080/"
        },
        "id": "pYqJPNrLvDn7",
        "outputId": "3c8e8161-bb88-4da3-8d5d-9a1eb8f6ea0b"
      },
      "execution_count": 33,
      "outputs": [
        {
          "output_type": "stream",
          "name": "stdout",
          "text": [
            "flask\n",
            "flask_sqlalchemy\n",
            "flask_login\n",
            "flask_ngrok\n",
            "matplotlib\n",
            "werkzeug\n",
            "\n"
          ]
        }
      ]
    },
    {
      "cell_type": "markdown",
      "source": [
        "# Now we havr the backend(app.py) and DB setup, so the app experts HTML files inside templates/ and images inside static\n"
      ],
      "metadata": {
        "id": "dLg-QPeKvehz"
      }
    },
    {
      "cell_type": "code",
      "source": [
        "# creating index.html(homepage) the landing page\n",
        "with open(\"templates/index.html\", \"w\") as f:\n",
        "    f.write(\"\"\"<!DOCTYPE html>\n",
        "<html>\n",
        "<head>\n",
        "    <title>Stella Project</title>\n",
        "</head>\n",
        "<body>\n",
        "    <h1>Welcome to Stella Project 🌟</h1>\n",
        "    <p>\n",
        "        <a href=\"{{ url_for('register') }}\">Register</a> |\n",
        "        <a href=\"{{ url_for('login') }}\">Login</a> |\n",
        "        {% if current_user.is_authenticated %}\n",
        "            <a href=\"{{ url_for('dashboard') }}\">Dashboard</a>\n",
        "        {% endif %}\n",
        "    </p>\n",
        "</body>\n",
        "</html>\n",
        "\"\"\")\n",
        "\n",
        "#Checkin the file\n",
        "with open(\"templates/index.html\") as f:\n",
        "    print(f.read())\n"
      ],
      "metadata": {
        "colab": {
          "base_uri": "https://localhost:8080/"
        },
        "id": "kUw-wBv6vUgg",
        "outputId": "ed106991-6e5a-4e02-cab2-963976f4185f"
      },
      "execution_count": 34,
      "outputs": [
        {
          "output_type": "stream",
          "name": "stdout",
          "text": [
            "<!DOCTYPE html>\n",
            "<html>\n",
            "<head>\n",
            "    <title>Stella Project</title>\n",
            "</head>\n",
            "<body>\n",
            "    <h1>Welcome to Stella Project 🌟</h1>\n",
            "    <p>\n",
            "        <a href=\"{{ url_for('register') }}\">Register</a> |\n",
            "        <a href=\"{{ url_for('login') }}\">Login</a> |\n",
            "        {% if current_user.is_authenticated %}\n",
            "            <a href=\"{{ url_for('dashboard') }}\">Dashboard</a>\n",
            "        {% endif %}\n",
            "    </p>\n",
            "</body>\n",
            "</html>\n",
            "\n"
          ]
        }
      ]
    },
    {
      "cell_type": "code",
      "source": [
        "# creating auth/registater.html(user registration)\n",
        "#  this page lets users create an account\n",
        "with open(\"templates/auth/register.html\", \"w\") as f:\n",
        "    f.write(\"\"\"<!DOCTYPE html>\n",
        "<html>\n",
        "<head>\n",
        "    <title>Register</title>\n",
        "</head>\n",
        "<body>\n",
        "    <h2>Create Account</h2>\n",
        "    <form method=\"POST\">\n",
        "        Username: <input type=\"text\" name=\"username\"><br>\n",
        "        Email: <input type=\"email\" name=\"email\"><br>\n",
        "        Password: <input type=\"password\" name=\"password\"><br>\n",
        "        <button type=\"submit\">Register</button>\n",
        "    </form>\n",
        "    <p>Already registered? <a href=\"{{ url_for('login') }}\">Login</a></p>\n",
        "</body>\n",
        "</html>\n",
        "\"\"\")\n",
        "\n",
        "# Checkani file\n",
        "with open(\"templates/auth/register.html\") as f:\n",
        "    print(f.read())\n"
      ],
      "metadata": {
        "colab": {
          "base_uri": "https://localhost:8080/"
        },
        "id": "77Vli9t4wJH9",
        "outputId": "398424de-d3b9-48ed-df81-623f8220422a"
      },
      "execution_count": 35,
      "outputs": [
        {
          "output_type": "stream",
          "name": "stdout",
          "text": [
            "<!DOCTYPE html>\n",
            "<html>\n",
            "<head>\n",
            "    <title>Register</title>\n",
            "</head>\n",
            "<body>\n",
            "    <h2>Create Account</h2>\n",
            "    <form method=\"POST\">\n",
            "        Username: <input type=\"text\" name=\"username\"><br>\n",
            "        Email: <input type=\"email\" name=\"email\"><br>\n",
            "        Password: <input type=\"password\" name=\"password\"><br>\n",
            "        <button type=\"submit\">Register</button>\n",
            "    </form>\n",
            "    <p>Already registered? <a href=\"{{ url_for('login') }}\">Login</a></p>\n",
            "</body>\n",
            "</html>\n",
            "\n"
          ]
        }
      ]
    },
    {
      "cell_type": "code",
      "source": [
        "# creating auth/log in html(user login)\n",
        "with open(\"templates/auth/login.html\", \"w\") as f:\n",
        "    f.write(\"\"\"<!DOCTYPE html>\n",
        "<html>\n",
        "<head>\n",
        "    <title>Login</title>\n",
        "</head>\n",
        "<body>\n",
        "    <h2>Login</h2>\n",
        "    <form method=\"POST\">\n",
        "        Username: <input type=\"text\" name=\"username\"><br>\n",
        "        Password: <input type=\"password\" name=\"password\"><br>\n",
        "        <button type=\"submit\">Login</button>\n",
        "    </form>\n",
        "    <p>No account? <a href=\"{{ url_for('register') }}\">Register here</a></p>\n",
        "</body>\n",
        "</html>\n",
        "\"\"\")\n",
        "\n",
        "# Check file\n",
        "with open(\"templates/auth/login.html\") as f:\n",
        "    print(f.read())\n"
      ],
      "metadata": {
        "colab": {
          "base_uri": "https://localhost:8080/"
        },
        "id": "W_sxVx5swumJ",
        "outputId": "a7c39b7f-a752-45e6-bca6-a4f2c58594e7"
      },
      "execution_count": 36,
      "outputs": [
        {
          "output_type": "stream",
          "name": "stdout",
          "text": [
            "<!DOCTYPE html>\n",
            "<html>\n",
            "<head>\n",
            "    <title>Login</title>\n",
            "</head>\n",
            "<body>\n",
            "    <h2>Login</h2>\n",
            "    <form method=\"POST\">\n",
            "        Username: <input type=\"text\" name=\"username\"><br>\n",
            "        Password: <input type=\"password\" name=\"password\"><br>\n",
            "        <button type=\"submit\">Login</button>\n",
            "    </form>\n",
            "    <p>No account? <a href=\"{{ url_for('register') }}\">Register here</a></p>\n",
            "</body>\n",
            "</html>\n",
            "\n"
          ]
        }
      ]
    },
    {
      "cell_type": "code",
      "source": [
        "# creating dashboaurd.htm...this is a central page after log in. from here the users can access tasks and expenses\n",
        "\n",
        "with open(\"templates/dashboard.html\", \"w\") as f:\n",
        "    f.write(\"\"\"<!DOCTYPE html>\n",
        "<html>\n",
        "<head>\n",
        "    <title>Dashboard</title>\n",
        "</head>\n",
        "<body>\n",
        "    <h1>Hello, {{ current_user.username }} 👋</h1>\n",
        "    <p>\n",
        "        <a href=\"{{ url_for('tasks') }}\">My Tasks</a> |\n",
        "        <a href=\"{{ url_for('expenses') }}\">My Expenses</a> |\n",
        "        <a href=\"{{ url_for('logout') }}\">Logout</a>\n",
        "    </p>\n",
        "</body>\n",
        "</html>\n",
        "\"\"\")\n",
        "\n",
        "# Check file\n",
        "with open(\"templates/dashboard.html\") as f:\n",
        "    print(f.read())\n"
      ],
      "metadata": {
        "colab": {
          "base_uri": "https://localhost:8080/"
        },
        "id": "SsBTpgjYxRw8",
        "outputId": "f1d637fa-021f-4140-c501-e9a6bcf8b63d"
      },
      "execution_count": 37,
      "outputs": [
        {
          "output_type": "stream",
          "name": "stdout",
          "text": [
            "<!DOCTYPE html>\n",
            "<html>\n",
            "<head>\n",
            "    <title>Dashboard</title>\n",
            "</head>\n",
            "<body>\n",
            "    <h1>Hello, {{ current_user.username }} 👋</h1>\n",
            "    <p>\n",
            "        <a href=\"{{ url_for('tasks') }}\">My Tasks</a> |\n",
            "        <a href=\"{{ url_for('expenses') }}\">My Expenses</a> |\n",
            "        <a href=\"{{ url_for('logout') }}\">Logout</a>\n",
            "    </p>\n",
            "</body>\n",
            "</html>\n",
            "\n"
          ]
        }
      ]
    },
    {
      "cell_type": "code",
      "source": [
        "# create tasks.html...to show task list, allowing adding tasks, toggling done/undone\n",
        "with open(\"templates/tasks.html\", \"w\") as f:\n",
        "    f.write(\"\"\"<!DOCTYPE html>\n",
        "<html>\n",
        "<head>\n",
        "    <title>Tasks</title>\n",
        "</head>\n",
        "<body>\n",
        "    <h2>My To-Do List</h2>\n",
        "    <form method=\"POST\">\n",
        "        <input type=\"text\" name=\"title\" placeholder=\"New Task\">\n",
        "        <button type=\"submit\">Add</button>\n",
        "    </form>\n",
        "    <ul>\n",
        "        {% for t in tasks %}\n",
        "            <li>\n",
        "                {{ \"✅\" if t.is_done else \"❌\" }}\n",
        "                {{ t.title }}\n",
        "                <a href=\"{{ url_for('toggle_task', tid=t.id) }}\">[Toggle]</a>\n",
        "            </li>\n",
        "        {% endfor %}\n",
        "    </ul>\n",
        "    <p><a href=\"{{ url_for('dashboard') }}\">Back</a></p>\n",
        "</body>\n",
        "</html>\n",
        "\"\"\")\n",
        "\n",
        "# 🔎 Check file\n",
        "with open(\"templates/tasks.html\") as f:\n",
        "    print(f.read())\n"
      ],
      "metadata": {
        "colab": {
          "base_uri": "https://localhost:8080/"
        },
        "id": "4Br7-miLxtkb",
        "outputId": "79d813e1-a7d5-4170-e7ec-78ed1931160f"
      },
      "execution_count": 38,
      "outputs": [
        {
          "output_type": "stream",
          "name": "stdout",
          "text": [
            "<!DOCTYPE html>\n",
            "<html>\n",
            "<head>\n",
            "    <title>Tasks</title>\n",
            "</head>\n",
            "<body>\n",
            "    <h2>My To-Do List</h2>\n",
            "    <form method=\"POST\">\n",
            "        <input type=\"text\" name=\"title\" placeholder=\"New Task\">\n",
            "        <button type=\"submit\">Add</button>\n",
            "    </form>\n",
            "    <ul>\n",
            "        {% for t in tasks %}\n",
            "            <li>\n",
            "                {{ \"✅\" if t.is_done else \"❌\" }}\n",
            "                {{ t.title }}\n",
            "                <a href=\"{{ url_for('toggle_task', tid=t.id) }}\">[Toggle]</a>\n",
            "            </li>\n",
            "        {% endfor %}\n",
            "    </ul>\n",
            "    <p><a href=\"{{ url_for('dashboard') }}\">Back</a></p>\n",
            "</body>\n",
            "</html>\n",
            "\n"
          ]
        }
      ]
    },
    {
      "cell_type": "code",
      "source": [
        "# creating expenses.html...to show expenses list, allow ading, display a oie chart, csv export\n",
        "\n",
        "with open(\"templates/expenses.html\", \"w\") as f:\n",
        "    f.write(\"\"\"<!DOCTYPE html>\n",
        "<html>\n",
        "<head>\n",
        "    <title>Expenses</title>\n",
        "</head>\n",
        "<body>\n",
        "    <h2>Expense Tracker</h2>\n",
        "    <form method=\"POST\">\n",
        "        Category: <input type=\"text\" name=\"category\">\n",
        "        Amount: <input type=\"number\" step=\"0.01\" name=\"amount\">\n",
        "        <button type=\"submit\">Add</button>\n",
        "    </form>\n",
        "\n",
        "    <h3>All Expenses</h3>\n",
        "    <ul>\n",
        "        {% for r in rows %}\n",
        "            <li>{{ r.category }} - ${{ r.amount }} ({{ r.created_at.strftime('%Y-%m-%d') }})</li>\n",
        "        {% endfor %}\n",
        "    </ul>\n",
        "\n",
        "    {% if totals %}\n",
        "        <h3>Category Breakdown</h3>\n",
        "        <img src=\"{{ url_for('static', filename='expenses.png') }}\" width=\"300\">\n",
        "    {% endif %}\n",
        "\n",
        "    <p><a href=\"{{ url_for('export_expenses') }}\">Download CSV</a></p>\n",
        "    <p><a href=\"{{ url_for('dashboard') }}\">Back</a></p>\n",
        "</body>\n",
        "</html>\n",
        "\"\"\")\n",
        "\n",
        "#Check file\n",
        "with open(\"templates/expenses.html\") as f:\n",
        "    print(f.read())\n"
      ],
      "metadata": {
        "colab": {
          "base_uri": "https://localhost:8080/"
        },
        "id": "NXD0VTIhyHsF",
        "outputId": "b0739790-ae3e-474e-d815-1feeaa4f8f34"
      },
      "execution_count": 39,
      "outputs": [
        {
          "output_type": "stream",
          "name": "stdout",
          "text": [
            "<!DOCTYPE html>\n",
            "<html>\n",
            "<head>\n",
            "    <title>Expenses</title>\n",
            "</head>\n",
            "<body>\n",
            "    <h2>Expense Tracker</h2>\n",
            "    <form method=\"POST\">\n",
            "        Category: <input type=\"text\" name=\"category\">\n",
            "        Amount: <input type=\"number\" step=\"0.01\" name=\"amount\">\n",
            "        <button type=\"submit\">Add</button>\n",
            "    </form>\n",
            "\n",
            "    <h3>All Expenses</h3>\n",
            "    <ul>\n",
            "        {% for r in rows %}\n",
            "            <li>{{ r.category }} - ${{ r.amount }} ({{ r.created_at.strftime('%Y-%m-%d') }})</li>\n",
            "        {% endfor %}\n",
            "    </ul>\n",
            "\n",
            "    {% if totals %}\n",
            "        <h3>Category Breakdown</h3>\n",
            "        <img src=\"{{ url_for('static', filename='expenses.png') }}\" width=\"300\">\n",
            "    {% endif %}\n",
            "\n",
            "    <p><a href=\"{{ url_for('export_expenses') }}\">Download CSV</a></p>\n",
            "    <p><a href=\"{{ url_for('dashboard') }}\">Back</a></p>\n",
            "</body>\n",
            "</html>\n",
            "\n"
          ]
        }
      ]
    },
    {
      "cell_type": "code",
      "source": [
        "# VERIFYING ALL TEMPLATES EXIST\n",
        "#confirming al the templates files are iin place\n",
        "for root, dirs, files in os.walk(\"templates\", topdown=True):\n",
        "    print(root, \"->\", files)\n"
      ],
      "metadata": {
        "colab": {
          "base_uri": "https://localhost:8080/"
        },
        "id": "iNGWndjzyoJF",
        "outputId": "79929ed5-cb7c-4786-a461-071fb17f33a1"
      },
      "execution_count": 40,
      "outputs": [
        {
          "output_type": "stream",
          "name": "stdout",
          "text": [
            "templates -> ['expenses.html', 'dashboard.html', 'index.html', 'tasks.html']\n",
            "templates/auth -> ['login.html', 'register.html']\n"
          ]
        }
      ]
    },
    {
      "cell_type": "markdown",
      "source": [
        "# Frontend and backend are ready, we install dependencies and run the flask app inside colab\n"
      ],
      "metadata": {
        "id": "z80j_xa5y9i4"
      }
    },
    {
      "cell_type": "code",
      "source": [
        "# installing dependencies, the requirements listes in requirements.text, now im installing them inside colab using pip\n",
        "!pip install -r requirements.txt\n"
      ],
      "metadata": {
        "colab": {
          "base_uri": "https://localhost:8080/"
        },
        "id": "GCVrcvsyyotp",
        "outputId": "c55a8ea2-62b2-42be-929a-3e6a3248509b"
      },
      "execution_count": 41,
      "outputs": [
        {
          "output_type": "stream",
          "name": "stdout",
          "text": [
            "Requirement already satisfied: flask in /usr/local/lib/python3.12/dist-packages (from -r requirements.txt (line 1)) (3.1.2)\n",
            "Requirement already satisfied: flask_sqlalchemy in /usr/local/lib/python3.12/dist-packages (from -r requirements.txt (line 2)) (3.1.1)\n",
            "Requirement already satisfied: flask_login in /usr/local/lib/python3.12/dist-packages (from -r requirements.txt (line 3)) (0.6.3)\n",
            "Requirement already satisfied: flask_ngrok in /usr/local/lib/python3.12/dist-packages (from -r requirements.txt (line 4)) (0.0.25)\n",
            "Requirement already satisfied: matplotlib in /usr/local/lib/python3.12/dist-packages (from -r requirements.txt (line 5)) (3.10.0)\n",
            "Requirement already satisfied: werkzeug in /usr/local/lib/python3.12/dist-packages (from -r requirements.txt (line 6)) (3.1.3)\n",
            "Requirement already satisfied: blinker>=1.9.0 in /usr/local/lib/python3.12/dist-packages (from flask->-r requirements.txt (line 1)) (1.9.0)\n",
            "Requirement already satisfied: click>=8.1.3 in /usr/local/lib/python3.12/dist-packages (from flask->-r requirements.txt (line 1)) (8.2.1)\n",
            "Requirement already satisfied: itsdangerous>=2.2.0 in /usr/local/lib/python3.12/dist-packages (from flask->-r requirements.txt (line 1)) (2.2.0)\n",
            "Requirement already satisfied: jinja2>=3.1.2 in /usr/local/lib/python3.12/dist-packages (from flask->-r requirements.txt (line 1)) (3.1.6)\n",
            "Requirement already satisfied: markupsafe>=2.1.1 in /usr/local/lib/python3.12/dist-packages (from flask->-r requirements.txt (line 1)) (3.0.2)\n",
            "Requirement already satisfied: sqlalchemy>=2.0.16 in /usr/local/lib/python3.12/dist-packages (from flask_sqlalchemy->-r requirements.txt (line 2)) (2.0.43)\n",
            "Requirement already satisfied: requests in /usr/local/lib/python3.12/dist-packages (from flask_ngrok->-r requirements.txt (line 4)) (2.32.4)\n",
            "Requirement already satisfied: contourpy>=1.0.1 in /usr/local/lib/python3.12/dist-packages (from matplotlib->-r requirements.txt (line 5)) (1.3.3)\n",
            "Requirement already satisfied: cycler>=0.10 in /usr/local/lib/python3.12/dist-packages (from matplotlib->-r requirements.txt (line 5)) (0.12.1)\n",
            "Requirement already satisfied: fonttools>=4.22.0 in /usr/local/lib/python3.12/dist-packages (from matplotlib->-r requirements.txt (line 5)) (4.59.2)\n",
            "Requirement already satisfied: kiwisolver>=1.3.1 in /usr/local/lib/python3.12/dist-packages (from matplotlib->-r requirements.txt (line 5)) (1.4.9)\n",
            "Requirement already satisfied: numpy>=1.23 in /usr/local/lib/python3.12/dist-packages (from matplotlib->-r requirements.txt (line 5)) (2.0.2)\n",
            "Requirement already satisfied: packaging>=20.0 in /usr/local/lib/python3.12/dist-packages (from matplotlib->-r requirements.txt (line 5)) (25.0)\n",
            "Requirement already satisfied: pillow>=8 in /usr/local/lib/python3.12/dist-packages (from matplotlib->-r requirements.txt (line 5)) (11.3.0)\n",
            "Requirement already satisfied: pyparsing>=2.3.1 in /usr/local/lib/python3.12/dist-packages (from matplotlib->-r requirements.txt (line 5)) (3.2.3)\n",
            "Requirement already satisfied: python-dateutil>=2.7 in /usr/local/lib/python3.12/dist-packages (from matplotlib->-r requirements.txt (line 5)) (2.9.0.post0)\n",
            "Requirement already satisfied: six>=1.5 in /usr/local/lib/python3.12/dist-packages (from python-dateutil>=2.7->matplotlib->-r requirements.txt (line 5)) (1.17.0)\n",
            "Requirement already satisfied: greenlet>=1 in /usr/local/lib/python3.12/dist-packages (from sqlalchemy>=2.0.16->flask_sqlalchemy->-r requirements.txt (line 2)) (3.2.4)\n",
            "Requirement already satisfied: typing-extensions>=4.6.0 in /usr/local/lib/python3.12/dist-packages (from sqlalchemy>=2.0.16->flask_sqlalchemy->-r requirements.txt (line 2)) (4.15.0)\n",
            "Requirement already satisfied: charset_normalizer<4,>=2 in /usr/local/lib/python3.12/dist-packages (from requests->flask_ngrok->-r requirements.txt (line 4)) (3.4.3)\n",
            "Requirement already satisfied: idna<4,>=2.5 in /usr/local/lib/python3.12/dist-packages (from requests->flask_ngrok->-r requirements.txt (line 4)) (3.10)\n",
            "Requirement already satisfied: urllib3<3,>=1.21.1 in /usr/local/lib/python3.12/dist-packages (from requests->flask_ngrok->-r requirements.txt (line 4)) (2.5.0)\n",
            "Requirement already satisfied: certifi>=2017.4.17 in /usr/local/lib/python3.12/dist-packages (from requests->flask_ngrok->-r requirements.txt (line 4)) (2025.8.3)\n"
          ]
        }
      ]
    },
    {
      "cell_type": "code",
      "source": [
        "# initialing the database, with tthe tables users, tasks, expenses with a python snippet\n",
        "from app import db, app\n",
        "\n",
        "# Creating DB tables\n",
        "with app.app_context():\n",
        "    db.create_all()\n",
        "\n",
        "print(\" Database initialized (stella.db created).\")\n"
      ],
      "metadata": {
        "colab": {
          "base_uri": "https://localhost:8080/"
        },
        "id": "6d26OTOMye4q",
        "outputId": "8cd40740-87a2-4049-8bed-f2df50a75940"
      },
      "execution_count": 42,
      "outputs": [
        {
          "output_type": "stream",
          "name": "stdout",
          "text": [
            " Database initialized (stella.db created).\n"
          ]
        }
      ]
    },
    {
      "cell_type": "code",
      "source": [
        "# runnning the flask app with ngrok\n",
        "!pkill gunicorn || echo \"No gunicorn process running\"  # clean any previous server\n",
        "\n",
        "from app import app\n",
        "from flask_ngrok import run_with_ngrok\n",
        "\n",
        "# Starting ngrok tunnel\n",
        "run_with_ngrok(app)\n",
        "\n",
        "# Running the app\n",
        "app.run()\n"
      ],
      "metadata": {
        "colab": {
          "base_uri": "https://localhost:8080/"
        },
        "id": "BYNzqUdz0Cci",
        "outputId": "99218db4-c76c-4bfb-aef0-c34a5639590a"
      },
      "execution_count": null,
      "outputs": [
        {
          "output_type": "stream",
          "name": "stdout",
          "text": [
            "No gunicorn process running\n",
            " * Serving Flask app 'app'\n",
            " * Debug mode: off\n"
          ]
        },
        {
          "output_type": "stream",
          "name": "stderr",
          "text": [
            "INFO:werkzeug:\u001b[31m\u001b[1mWARNING: This is a development server. Do not use it in a production deployment. Use a production WSGI server instead.\u001b[0m\n",
            " * Running on http://127.0.0.1:5000\n",
            "INFO:werkzeug:\u001b[33mPress CTRL+C to quit\u001b[0m\n",
            "Exception in thread Thread-10:\n",
            "Traceback (most recent call last):\n",
            "  File \"/usr/local/lib/python3.12/dist-packages/urllib3/connection.py\", line 198, in _new_conn\n",
            "    sock = connection.create_connection(\n",
            "           ^^^^^^^^^^^^^^^^^^^^^^^^^^^^^\n",
            "  File \"/usr/local/lib/python3.12/dist-packages/urllib3/util/connection.py\", line 85, in create_connection\n",
            "    raise err\n",
            "  File \"/usr/local/lib/python3.12/dist-packages/urllib3/util/connection.py\", line 73, in create_connection\n",
            "    sock.connect(sa)\n",
            "ConnectionRefusedError: [Errno 111] Connection refused\n",
            "\n",
            "The above exception was the direct cause of the following exception:\n",
            "\n",
            "Traceback (most recent call last):\n",
            "  File \"/usr/local/lib/python3.12/dist-packages/urllib3/connectionpool.py\", line 787, in urlopen\n",
            "    response = self._make_request(\n",
            "               ^^^^^^^^^^^^^^^^^^^\n",
            "  File \"/usr/local/lib/python3.12/dist-packages/urllib3/connectionpool.py\", line 493, in _make_request\n",
            "    conn.request(\n",
            "  File \"/usr/local/lib/python3.12/dist-packages/urllib3/connection.py\", line 494, in request\n",
            "    self.endheaders()\n",
            "  File \"/usr/lib/python3.12/http/client.py\", line 1333, in endheaders\n",
            "Exception in thread Thread-11:\n",
            "Traceback (most recent call last):\n",
            "  File \"/usr/local/lib/python3.12/dist-packages/urllib3/connection.py\", line 198, in _new_conn\n",
            "    sock = connection.create_connection(\n",
            "           ^^^^^^^^^^^^^^^^^^^^^^^^^^^^^\n",
            "  File \"/usr/local/lib/python3.12/dist-packages/urllib3/util/connection.py\", line 85, in create_connection\n",
            "    raise err\n",
            "  File \"/usr/local/lib/python3.12/dist-packages/urllib3/util/connection.py\", line 73, in create_connection\n",
            "    sock.connect(sa)\n",
            "ConnectionRefusedError: [Errno 111] Connection refused\n",
            "\n",
            "The above exception was the direct cause of the following exception:\n",
            "\n",
            "Traceback (most recent call last):\n",
            "  File \"/usr/local/lib/python3.12/dist-packages/urllib3/connectionpool.py\", line 787, in urlopen\n",
            "    response = self._make_request(\n",
            "               ^^^^^^^^^^^^^^^^^^^\n",
            "  File \"/usr/local/lib/python3.12/dist-packages/urllib3/connectionpool.py\", line 493, in _make_request\n",
            "    conn.request(\n",
            "  File \"/usr/local/lib/python3.12/dist-packages/urllib3/connection.py\", line 494, in request\n",
            "    self.endheaders()\n",
            "  File \"/usr/lib/python3.12/http/client.py\", line 1333, in endheaders\n",
            "    self._send_output(message_body, encode_chunked=encode_chunked)\n",
            "  File \"/usr/lib/python3.12/http/client.py\", line 1093, in _send_output\n",
            "    self.send(msg)\n",
            "  File \"/usr/lib/python3.12/http/client.py\", line 1037, in send\n",
            "Exception in thread Thread-12:\n",
            "Traceback (most recent call last):\n",
            "  File \"/usr/local/lib/python3.12/dist-packages/urllib3/connection.py\", line 198, in _new_conn\n",
            "    sock = connection.create_connection(\n",
            "           ^^^^^^^^^^^^^^^^^^^^^^^^^^^^^\n",
            "  File \"/usr/local/lib/python3.12/dist-packages/urllib3/util/connection.py\", line 85, in create_connection\n",
            "    raise err\n",
            "  File \"/usr/local/lib/python3.12/dist-packages/urllib3/util/connection.py\", line 73, in create_connection\n",
            "    sock.connect(sa)\n",
            "ConnectionRefusedError: [Errno 111] Connection refused\n",
            "\n",
            "The above exception was the direct cause of the following exception:\n",
            "\n",
            "Traceback (most recent call last):\n",
            "  File \"/usr/local/lib/python3.12/dist-packages/urllib3/connectionpool.py\", line 787, in urlopen\n",
            "    response = self._make_request(\n",
            "               ^^^^^^^^^^^^^^^^^^^\n",
            "  File \"/usr/local/lib/python3.12/dist-packages/urllib3/connectionpool.py\", line 493, in _make_request\n",
            "    conn.request(\n",
            "  File \"/usr/local/lib/python3.12/dist-packages/urllib3/connection.py\", line 494, in request\n",
            "    self.endheaders()\n",
            "  File \"/usr/lib/python3.12/http/client.py\", line 1333, in endheaders\n",
            "    self._send_output(message_body, encode_chunked=encode_chunked)\n",
            "  File \"/usr/lib/python3.12/http/client.py\", line 1093, in _send_output\n",
            "    self.send(msg)\n",
            "  File \"/usr/lib/python3.12/http/client.py\", line 1037, in send\n",
            "    self.connect()\n",
            "  File \"/usr/local/lib/python3.12/dist-packages/urllib3/connection.py\", line 325, in connect\n",
            "    self.sock = self._new_conn()\n",
            "                ^^^^^^^^^^^^^^^^\n",
            "  File \"/usr/local/lib/python3.12/dist-packages/urllib3/connection.py\", line 213, in _new_conn\n",
            "    raise NewConnectionError(\n",
            "urllib3.exceptions.NewConnectionError: <urllib3.connection.HTTPConnection object at 0x7f9f9f89a000>: Failed to establish a new connection: [Errno 111] Connection refused\n",
            "\n",
            "The above exception was the direct cause of the following exception:\n",
            "\n",
            "Traceback (most recent call last):\n",
            "  File \"/usr/local/lib/python3.12/dist-packages/requests/adapters.py\", line 667, in send\n",
            "    resp = conn.urlopen(\n",
            "           ^^^^^^^^^^^^^\n",
            "  File \"/usr/local/lib/python3.12/dist-packages/urllib3/connectionpool.py\", line 841, in urlopen\n",
            "    retries = retries.increment(\n",
            "              ^^^^^^^^^^^^^^^^^^\n",
            "  File \"/usr/local/lib/python3.12/dist-packages/urllib3/util/retry.py\", line 519, in increment\n",
            "    self.connect()\n",
            "  File \"/usr/local/lib/python3.12/dist-packages/urllib3/connection.py\", line 325, in connect\n",
            "    self.sock = self._new_conn()\n",
            "                ^^^^^^^^^^^^^^^^\n",
            "  File \"/usr/local/lib/python3.12/dist-packages/urllib3/connection.py\", line 213, in _new_conn\n",
            "    raise NewConnectionError(\n",
            "urllib3.exceptions.NewConnectionError: <urllib3.connection.HTTPConnection object at 0x7f9f9f899370>: Failed to establish a new connection: [Errno 111] Connection refused\n",
            "\n",
            "The above exception was the direct cause of the following exception:\n",
            "\n",
            "Traceback (most recent call last):\n",
            "  File \"/usr/local/lib/python3.12/dist-packages/requests/adapters.py\", line 667, in send\n",
            "    resp = conn.urlopen(\n",
            "           ^^^^^^^^^^^^^\n",
            "  File \"/usr/local/lib/python3.12/dist-packages/urllib3/connectionpool.py\", line 841, in urlopen\n",
            "    retries = retries.increment(\n",
            "              ^^^^^^^^^^^^^^^^^^\n",
            "  File \"/usr/local/lib/python3.12/dist-packages/urllib3/util/retry.py\", line 519, in increment\n",
            "    raise MaxRetryError(_pool, url, reason) from reason  # type: ignore[arg-type]\n",
            "    ^^^^^^^^^^^^^^^^^^^^^^^^^^^^^^^^^^^^^^^^^^^^^^^^^^^\n",
            "urllib3.exceptions.MaxRetryError: HTTPConnectionPool(host='localhost', port=4040): Max retries exceeded with url: /api/tunnels (Caused by NewConnectionError('<urllib3.connection.HTTPConnection object at 0x7f9f9f899370>: Failed to establish a new connection: [Errno 111] Connection refused'))\n",
            "\n",
            "During handling of the above exception, another exception occurred:\n",
            "\n",
            "Traceback (most recent call last):\n",
            "  File \"/usr/lib/python3.12/threading.py\", line 1075, in _bootstrap_inner\n",
            "    raise MaxRetryError(_pool, url, reason) from reason  # type: ignore[arg-type]\n",
            "    ^^^^^^^^^^^^^^^^^^^^^^^^^^^^^^^^^^^^^^^^^^^^^^^^^^^\n",
            "urllib3.exceptions.MaxRetryError: HTTPConnectionPool(host='localhost', port=4040): Max retries exceeded with url: /api/tunnels (Caused by NewConnectionError('<urllib3.connection.HTTPConnection object at 0x7f9f9f89a000>: Failed to establish a new connection: [Errno 111] Connection refused'))\n",
            "\n",
            "During handling of the above exception, another exception occurred:\n",
            "\n",
            "Traceback (most recent call last):\n",
            "  File \"/usr/lib/python3.12/threading.py\", line 1075, in _bootstrap_inner\n",
            "    self.run()\n",
            "  File \"/usr/lib/python3.12/threading.py\", line 1433, in run\n",
            "    self._send_output(message_body, encode_chunked=encode_chunked)\n",
            "  File \"/usr/lib/python3.12/http/client.py\", line 1093, in _send_output\n",
            "    self.send(msg)\n",
            "  File \"/usr/lib/python3.12/http/client.py\", line 1037, in send\n",
            "    self.connect()\n",
            "  File \"/usr/local/lib/python3.12/dist-packages/urllib3/connection.py\", line 325, in connect\n",
            "    self.sock = self._new_conn()\n",
            "                ^^^^^^^^^^^^^^^^\n",
            "  File \"/usr/local/lib/python3.12/dist-packages/urllib3/connection.py\", line 213, in _new_conn\n",
            "    raise NewConnectionError(\n",
            "urllib3.exceptions.NewConnectionError: <urllib3.connection.HTTPConnection object at 0x7f9f9f898380>: Failed to establish a new connection: [Errno 111] Connection refused\n",
            "\n",
            "The above exception was the direct cause of the following exception:\n",
            "\n",
            "Traceback (most recent call last):\n",
            "  File \"/usr/local/lib/python3.12/dist-packages/requests/adapters.py\", line 667, in send\n",
            "    resp = conn.urlopen(\n",
            "           ^^^^^^^^^^^^^\n",
            "  File \"/usr/local/lib/python3.12/dist-packages/urllib3/connectionpool.py\", line 841, in urlopen\n",
            "    retries = retries.increment(\n",
            "              ^^^^^^^^^^^^^^^^^^\n",
            "  File \"/usr/local/lib/python3.12/dist-packages/urllib3/util/retry.py\", line 519, in increment\n",
            "    raise MaxRetryError(_pool, url, reason) from reason  # type: ignore[arg-type]\n",
            "    ^^^^^^^^^^^^^^^^^^^^^^^^^^^^^^^^^^^^^^^^^^^^^^^^^^^\n",
            "urllib3.exceptions.MaxRetryError: HTTPConnectionPool(host='localhost', port=4040): Max retries exceeded with url: /api/tunnels (Caused by NewConnectionError('<urllib3.connection.HTTPConnection object at 0x7f9f9f898380>: Failed to establish a new connection: [Errno 111] Connection refused'))\n",
            "\n",
            "During handling of the above exception, another exception occurred:\n",
            "\n",
            "Traceback (most recent call last):\n",
            "  File \"/usr/lib/python3.12/threading.py\", line 1075, in _bootstrap_inner\n",
            "    self.function(*self.args, **self.kwargs)\n",
            "  File \"/usr/local/lib/python3.12/dist-packages/flask_ngrok.py\", line 70, in start_ngrok\n",
            "    ngrok_address = _run_ngrok()\n",
            "                    ^^^^^^^^^^^^\n",
            "  File \"/usr/local/lib/python3.12/dist-packages/flask_ngrok.py\", line 35, in _run_ngrok\n",
            "    tunnel_url = requests.get(localhost_url).text  # Get the tunnel information\n",
            "                 ^^^^^^^^^^^^^^^^^^^^^^^^^^^\n",
            "  File \"/usr/local/lib/python3.12/dist-packages/requests/api.py\", line 73, in get\n",
            "    return request(\"get\", url, params=params, **kwargs)\n",
            "           ^^^^^^^^^^^^^^^^^^^^^^^^^^^^^^^^^^^^^^^^^^^^\n",
            "  File \"/usr/local/lib/python3.12/dist-packages/requests/api.py\", line 59, in request\n",
            "    return session.request(method=method, url=url, **kwargs)\n",
            "           ^^^^^^^^^^^^^^^^^^^^^^^^^^^^^^^^^^^^^^^^^^^^^^^^^\n",
            "  File \"/usr/local/lib/python3.12/dist-packages/requests/sessions.py\", line 589, in request\n",
            "    resp = self.send(prep, **send_kwargs)\n",
            "           ^^^^^^^^^^^^^^^^^^^^^^^^^^^^^^\n",
            "  File \"/usr/local/lib/python3.12/dist-packages/requests/sessions.py\", line 703, in send\n",
            "Exception in thread Thread-9:\n",
            "Traceback (most recent call last):\n",
            "  File \"/usr/local/lib/python3.12/dist-packages/urllib3/connection.py\", line 198, in _new_conn\n",
            "    sock = connection.create_connection(\n",
            "           ^^^^^^^^^^^^^^^^^^^^^^^^^^^^^\n",
            "  File \"/usr/local/lib/python3.12/dist-packages/urllib3/util/connection.py\", line 85, in create_connection\n",
            "    raise err\n",
            "  File \"/usr/local/lib/python3.12/dist-packages/urllib3/util/connection.py\", line 73, in create_connection\n",
            "    sock.connect(sa)\n",
            "ConnectionRefusedError: [Errno 111] Connection refused\n",
            "\n",
            "The above exception was the direct cause of the following exception:\n",
            "\n",
            "Traceback (most recent call last):\n",
            "  File \"/usr/local/lib/python3.12/dist-packages/urllib3/connectionpool.py\", line 787, in urlopen\n",
            "    response = self._make_request(\n",
            "               ^^^^^^^^^^^^^^^^^^^\n",
            "  File \"/usr/local/lib/python3.12/dist-packages/urllib3/connectionpool.py\", line 493, in _make_request\n",
            "    conn.request(\n",
            "  File \"/usr/local/lib/python3.12/dist-packages/urllib3/connection.py\", line 494, in request\n",
            "    self.endheaders()\n",
            "  File \"/usr/lib/python3.12/http/client.py\", line 1333, in endheaders\n",
            "    self._send_output(message_body, encode_chunked=encode_chunked)\n",
            "  File \"/usr/lib/python3.12/http/client.py\", line 1093, in _send_output\n",
            "    self.send(msg)\n",
            "  File \"/usr/lib/python3.12/http/client.py\", line 1037, in send\n",
            "    self.connect()\n",
            "  File \"/usr/local/lib/python3.12/dist-packages/urllib3/connection.py\", line 325, in connect\n",
            "    self.sock = self._new_conn()\n",
            "                ^^^^^^^^^^^^^^^^\n",
            "  File \"/usr/local/lib/python3.12/dist-packages/urllib3/connection.py\", line 213, in _new_conn\n",
            "    raise NewConnectionError(\n",
            "urllib3.exceptions.NewConnectionError: <urllib3.connection.HTTPConnection object at 0x7f9f9fa2aae0>: Failed to establish a new connection: [Errno 111] Connection refused\n",
            "\n",
            "The above exception was the direct cause of the following exception:\n",
            "\n",
            "Traceback (most recent call last):\n",
            "  File \"/usr/local/lib/python3.12/dist-packages/requests/adapters.py\", line 667, in send\n",
            "    resp = conn.urlopen(\n",
            "           ^^^^^^^^^^^^^\n",
            "  File \"/usr/local/lib/python3.12/dist-packages/urllib3/connectionpool.py\", line 841, in urlopen\n",
            "    self.run()\n",
            "  File \"/usr/lib/python3.12/threading.py\", line 1433, in run\n",
            "    self.function(*self.args, **self.kwargs)\n",
            "  File \"/usr/local/lib/python3.12/dist-packages/flask_ngrok.py\", line 70, in start_ngrok\n",
            "    ngrok_address = _run_ngrok()\n",
            "                    ^^^^^^^^^^^^\n",
            "  File \"/usr/local/lib/python3.12/dist-packages/flask_ngrok.py\", line 35, in _run_ngrok\n",
            "    tunnel_url = requests.get(localhost_url).text  # Get the tunnel information\n",
            "                 ^^^^^^^^^^^^^^^^^^^^^^^^^^^\n",
            "  File \"/usr/local/lib/python3.12/dist-packages/requests/api.py\", line 73, in get\n",
            "    return request(\"get\", url, params=params, **kwargs)\n",
            "           ^^^^^^^^^^^^^^^^^^^^^^^^^^^^^^^^^^^^^^^^^^^^\n",
            "  File \"/usr/local/lib/python3.12/dist-packages/requests/api.py\", line 59, in request\n",
            "    return session.request(method=method, url=url, **kwargs)\n",
            "           ^^^^^^^^^^^^^^^^^^^^^^^^^^^^^^^^^^^^^^^^^^^^^^^^^\n",
            "  File \"/usr/local/lib/python3.12/dist-packages/requests/sessions.py\", line 589, in request\n",
            "    resp = self.send(prep, **send_kwargs)\n",
            "           ^^^^^^^^^^^^^^^^^^^^^^^^^^^^^^\n",
            "  File \"/usr/local/lib/python3.12/dist-packages/requests/sessions.py\", line 703, in send\n",
            "    r = adapter.send(request, **kwargs)\n",
            "        ^^^^^^^^^^^^^^^^^^^^^^^^^^^^^^^\n",
            "  File \"/usr/local/lib/python3.12/dist-packages/requests/adapters.py\", line 700, in send\n",
            "    raise ConnectionError(e, request=request)\n",
            "requests.exceptions.ConnectionError: HTTPConnectionPool(host='localhost', port=4040): Max retries exceeded with url: /api/tunnels (Caused by NewConnectionError('<urllib3.connection.HTTPConnection object at 0x7f9f9f89a000>: Failed to establish a new connection: [Errno 111] Connection refused'))\n",
            "    self.run()\n",
            "  File \"/usr/lib/python3.12/threading.py\", line 1433, in run\n",
            "    self.function(*self.args, **self.kwargs)\n",
            "  File \"/usr/local/lib/python3.12/dist-packages/flask_ngrok.py\", line 70, in start_ngrok\n",
            "    ngrok_address = _run_ngrok()\n",
            "                    ^^^^^^^^^^^^\n",
            "  File \"/usr/local/lib/python3.12/dist-packages/flask_ngrok.py\", line 35, in _run_ngrok\n",
            "    tunnel_url = requests.get(localhost_url).text  # Get the tunnel information\n",
            "                 ^^^^^^^^^^^^^^^^^^^^^^^^^^^\n",
            "  File \"/usr/local/lib/python3.12/dist-packages/requests/api.py\", line 73, in get\n",
            "    return request(\"get\", url, params=params, **kwargs)\n",
            "           ^^^^^^^^^^^^^^^^^^^^^^^^^^^^^^^^^^^^^^^^^^^^\n",
            "  File \"/usr/local/lib/python3.12/dist-packages/requests/api.py\", line 59, in request\n",
            "    return session.request(method=method, url=url, **kwargs)\n",
            "           ^^^^^^^^^^^^^^^^^^^^^^^^^^^^^^^^^^^^^^^^^^^^^^^^^\n",
            "  File \"/usr/local/lib/python3.12/dist-packages/requests/sessions.py\", line 589, in request\n",
            "    resp = self.send(prep, **send_kwargs)\n",
            "           ^^^^^^^^^^^^^^^^^^^^^^^^^^^^^^\n",
            "  File \"/usr/local/lib/python3.12/dist-packages/requests/sessions.py\", line 703, in send\n",
            "    r = adapter.send(request, **kwargs)\n",
            "        ^^^^^^^^^^^^^^^^^^^^^^^^^^^^^^^\n",
            "  File \"/usr/local/lib/python3.12/dist-packages/requests/adapters.py\", line 700, in send\n",
            "    raise ConnectionError(e, request=request)\n",
            "requests.exceptions.ConnectionError: HTTPConnectionPool(host='localhost', port=4040): Max retries exceeded with url: /api/tunnels (Caused by NewConnectionError('<urllib3.connection.HTTPConnection object at 0x7f9f9f898380>: Failed to establish a new connection: [Errno 111] Connection refused'))\n",
            "    r = adapter.send(request, **kwargs)\n",
            "        ^^^^^^^^^^^^^^^^^^^^^^^^^^^^^^^\n",
            "  File \"/usr/local/lib/python3.12/dist-packages/requests/adapters.py\", line 700, in send\n",
            "    raise ConnectionError(e, request=request)\n",
            "requests.exceptions.ConnectionError: HTTPConnectionPool(host='localhost', port=4040): Max retries exceeded with url: /api/tunnels (Caused by NewConnectionError('<urllib3.connection.HTTPConnection object at 0x7f9f9f899370>: Failed to establish a new connection: [Errno 111] Connection refused'))\n",
            "    retries = retries.increment(\n",
            "              ^^^^^^^^^^^^^^^^^^\n",
            "  File \"/usr/local/lib/python3.12/dist-packages/urllib3/util/retry.py\", line 519, in increment\n",
            "    raise MaxRetryError(_pool, url, reason) from reason  # type: ignore[arg-type]\n",
            "    ^^^^^^^^^^^^^^^^^^^^^^^^^^^^^^^^^^^^^^^^^^^^^^^^^^^\n",
            "urllib3.exceptions.MaxRetryError: HTTPConnectionPool(host='localhost', port=4040): Max retries exceeded with url: /api/tunnels (Caused by NewConnectionError('<urllib3.connection.HTTPConnection object at 0x7f9f9fa2aae0>: Failed to establish a new connection: [Errno 111] Connection refused'))\n",
            "\n",
            "During handling of the above exception, another exception occurred:\n",
            "\n",
            "Traceback (most recent call last):\n",
            "  File \"/usr/lib/python3.12/threading.py\", line 1075, in _bootstrap_inner\n",
            "    self.run()\n",
            "  File \"/usr/lib/python3.12/threading.py\", line 1433, in run\n",
            "    self.function(*self.args, **self.kwargs)\n",
            "  File \"/usr/local/lib/python3.12/dist-packages/flask_ngrok.py\", line 70, in start_ngrok\n",
            "    ngrok_address = _run_ngrok()\n",
            "                    ^^^^^^^^^^^^\n",
            "  File \"/usr/local/lib/python3.12/dist-packages/flask_ngrok.py\", line 35, in _run_ngrok\n",
            "    tunnel_url = requests.get(localhost_url).text  # Get the tunnel information\n",
            "                 ^^^^^^^^^^^^^^^^^^^^^^^^^^^\n",
            "  File \"/usr/local/lib/python3.12/dist-packages/requests/api.py\", line 73, in get\n",
            "    return request(\"get\", url, params=params, **kwargs)\n",
            "           ^^^^^^^^^^^^^^^^^^^^^^^^^^^^^^^^^^^^^^^^^^^^\n",
            "  File \"/usr/local/lib/python3.12/dist-packages/requests/api.py\", line 59, in request\n",
            "    return session.request(method=method, url=url, **kwargs)\n",
            "           ^^^^^^^^^^^^^^^^^^^^^^^^^^^^^^^^^^^^^^^^^^^^^^^^^\n",
            "  File \"/usr/local/lib/python3.12/dist-packages/requests/sessions.py\", line 589, in request\n",
            "    resp = self.send(prep, **send_kwargs)\n",
            "           ^^^^^^^^^^^^^^^^^^^^^^^^^^^^^^\n",
            "  File \"/usr/local/lib/python3.12/dist-packages/requests/sessions.py\", line 703, in send\n",
            "    r = adapter.send(request, **kwargs)\n",
            "        ^^^^^^^^^^^^^^^^^^^^^^^^^^^^^^^\n",
            "  File \"/usr/local/lib/python3.12/dist-packages/requests/adapters.py\", line 700, in send\n",
            "    raise ConnectionError(e, request=request)\n",
            "requests.exceptions.ConnectionError: HTTPConnectionPool(host='localhost', port=4040): Max retries exceeded with url: /api/tunnels (Caused by NewConnectionError('<urllib3.connection.HTTPConnection object at 0x7f9f9fa2aae0>: Failed to establish a new connection: [Errno 111] Connection refused'))\n"
          ]
        }
      ]
    },
    {
      "cell_type": "markdown",
      "source": [
        "# Testing the app manually\n",
        "## we will test by opening the ngrok link"
      ],
      "metadata": {
        "id": "FEVne1_G1B2S"
      }
    },
    {
      "cell_type": "code",
      "source": [],
      "metadata": {
        "id": "BroG2vzT0_9a"
      },
      "execution_count": 43,
      "outputs": []
    }
  ]
}