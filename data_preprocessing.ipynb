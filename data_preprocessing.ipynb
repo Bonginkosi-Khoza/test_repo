{
 "cells": [
  {
   "cell_type": "code",
   "execution_count": 3,
   "id": "c00cfafc-db39-4a0d-8405-12865f0b58e0",
   "metadata": {},
   "outputs": [],
   "source": [
    "import  pandas as pd\n",
    "from sklearn.model_selection import train_test_split"
   ]
  },
  {
   "cell_type": "code",
   "execution_count": 7,
   "id": "64c37fa3-04f4-4a36-8f84-040f173e0278",
   "metadata": {},
   "outputs": [],
   "source": [
    "# LOADING PREPARED DATA\n",
    "\n",
    "file_path = r\"C:\\Users\\Bonginkosi.khoza\\Desktop\\work\\data\\Com-gen-GaussDiswithNoise.csv\"\n",
    "df = pd.read_csv(file_path)\n",
    "\n",
    "# renaming columns like before\n",
    "new_columns = ['Measurement_ID'] + [f'Channel_{i}' for i in range(5, 2000, 10)] + ['Peak_Position_x0', 'Peak_Width_sigma', 'Total_Counts_N']\n",
    "df.columns = new_columns"
   ]
  },
  {
   "cell_type": "code",
   "execution_count": 12,
   "id": "a9694e3e-d914-4e64-ae0b-e262cf2a1ca8",
   "metadata": {},
   "outputs": [],
   "source": [
    "# CREATING A TARGET LABEL\n",
    "'''\n",
    "the dataset doest have a target_label_column at this point{{{{which would typically be a radionuclideID or a binary lable like \"peak present\" or \"background\"}}\n",
    "so for practice  we will create a dummy one to proceed\n",
    "'''\n",
    "# temporary example: classify total counts as High/low\n",
    "df['Target_Label'] = df['Total_Counts_N'].apply(lambda x: 'High' if x > 20000 else 'Low')\n",
    "\n",
    "# nb:REPLACE WITH ACTUAL LABELS WHEN AVAILABLE"
   ]
  },
  {
   "cell_type": "code",
   "execution_count": 13,
   "id": "b6a7898a-ad6d-4c11-a39c-bfe326c5bf6a",
   "metadata": {},
   "outputs": [],
   "source": [
    "# SPLITING DATA INTO FEATURE (X) AND LABELS(Y)\n",
    "\n",
    "X = df.drop(columns=[\"Target_Label\"])\n",
    "y = df[\"Target_Label\"]"
   ]
  },
  {
   "cell_type": "code",
   "execution_count": 14,
   "id": "f8101f8a-eff6-4df2-9587-4d4a0e32da4d",
   "metadata": {},
   "outputs": [
    {
     "name": "stdout",
     "output_type": "stream",
     "text": [
      "(400, 204) (100, 204) (400,) (100,)\n"
     ]
    }
   ],
   "source": [
    "# SPLITING INTO TRAINING AND TESTING g SETS\n",
    "\n",
    "X_train, X_test, y_train, y_test = train_test_split(X, y, test_size=0.2, random_state=42)\n",
    "\n",
    "# checkin the shapes\n",
    "print(X_train.shape, X_test.shape, y_train.shape, y_test.shape)"
   ]
  },
  {
   "cell_type": "code",
   "execution_count": null,
   "id": "59b75dc5-2c1b-46e9-bf12-1900a33e9b8b",
   "metadata": {},
   "outputs": [],
   "source": []
  }
 ],
 "metadata": {
  "kernelspec": {
   "display_name": "Python 3 (ipykernel)",
   "language": "python",
   "name": "python3"
  },
  "language_info": {
   "codemirror_mode": {
    "name": "ipython",
    "version": 3
   },
   "file_extension": ".py",
   "mimetype": "text/x-python",
   "name": "python",
   "nbconvert_exporter": "python",
   "pygments_lexer": "ipython3",
   "version": "3.12.7"
  }
 },
 "nbformat": 4,
 "nbformat_minor": 5
}
